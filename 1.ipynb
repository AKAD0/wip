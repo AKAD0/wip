{
 "cells": [
  {
   "cell_type": "code",
   "execution_count": null,
   "id": "6ea36b5f",
   "metadata": {},
   "outputs": [],
   "source": [
    "import torch                                            # Framework\n",
    "import torch.nn as nn                                   # Layer architecture\n",
    "import torch.optim as optim                             # Optimizers\n",
    "from torch.optim import lr_scheduler                    # Learning rate adjuster\n",
    "import torch.backends.cudnn as cudnn                    # CUDA interface\n",
    "import numpy as np                                      # yep\n",
    "import torchvision                                      # CV torch\n",
    "from torchvision import datasets, models, transforms    # yep\n",
    "import matplotlib.pyplot as plt                         # yep\n",
    "import time                                             # yep\n",
    "import os                                               # yep\n",
    "from PIL import Image                                   # yep\n",
    "from tempfile import TemporaryDirectory                 # Automatic temporary folders\n",
    "\n",
    "cudnn.benchmark = True          # Auto setup\n",
    "plt.ion()                       # interactive mode"
   ]
  },
  {
   "cell_type": "markdown",
   "id": "7de114a8",
   "metadata": {},
   "source": [
    "```Load data```"
   ]
  },
  {
   "cell_type": "code",
   "execution_count": null,
   "id": "4d123469",
   "metadata": {},
   "outputs": [],
   "source": [
    "# Data augmentation and normalization for training\n",
    "# Just normalization for validation\n",
    "data_transforms = {\n",
    "    'train': transforms.Compose([                       # Single pipeline of transforms\n",
    "        transforms.RandomResizedCrop(224),              # Random crop every access to an image (e.g. epoch)\n",
    "        transforms.RandomHorizontalFlip(),              # Random flip every access to an image (e.g. epoch)\n",
    "        transforms.ToTensor(),                          # Image to pytorch tensor with range of [0-1]\n",
    "        transforms.Normalize([0.485, 0.456, 0.406],     # Mean color\n",
    "                             [0.229, 0.224, 0.225])     # std of colors\n",
    "    ]),\n",
    "    'val': transforms.Compose([\n",
    "        transforms.Resize(256),                         # Resize smaller side of an image to 256\n",
    "        transforms.CenterCrop(224),                     # Crop center of a 224 side\n",
    "        transforms.ToTensor(),                          \n",
    "        transforms.Normalize([0.485, 0.456, 0.406],     \n",
    "                             [0.229, 0.224, 0.225])     \n",
    "    ]),\n",
    "}\n",
    "\n",
    "data_dir = 'data/hymenoptera_data'\n",
    "image_datasets = {x: datasets.ImageFolder(os.path.join(data_dir, x),\n",
    "                                          data_transforms[x])\n",
    "                  for x in ['train', 'val']}\n",
    "dataloaders = {x: torch.utils.data.DataLoader(image_datasets[x], batch_size=4,\n",
    "                                             shuffle=True, num_workers=4)\n",
    "              for x in ['train', 'val']}\n",
    "dataset_sizes = {x: len(image_datasets[x]) for x in ['train', 'val']}\n",
    "class_names = image_datasets['train'].classes\n",
    "\n",
    "# We want to be able to train our model on an `accelerator <https://pytorch.org/docs/stable/torch.html#accelerators>`__\n",
    "# such as CUDA, MPS, MTIA, or XPU. If the current accelerator is available, we will use it. Otherwise, we use the CPU.\n",
    "\n",
    "device = torch.accelerator.current_accelerator().type if torch.accelerator.is_available() else \"cpu\"\n",
    "print(f\"Using {device} device\")"
   ]
  }
 ],
 "metadata": {
  "kernelspec": {
   "display_name": "venv",
   "language": "python",
   "name": "python3"
  },
  "language_info": {
   "codemirror_mode": {
    "name": "ipython",
    "version": 3
   },
   "file_extension": ".py",
   "mimetype": "text/x-python",
   "name": "python",
   "nbconvert_exporter": "python",
   "pygments_lexer": "ipython3",
   "version": "3.13.5"
  }
 },
 "nbformat": 4,
 "nbformat_minor": 5
}
