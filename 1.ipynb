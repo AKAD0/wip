{
 "cells": [
  {
   "cell_type": "code",
   "execution_count": 2,
   "id": "6ea36b5f",
   "metadata": {},
   "outputs": [
    {
     "data": {
      "text/plain": [
       "<contextlib.ExitStack at 0x14b0fbad160>"
      ]
     },
     "execution_count": 2,
     "metadata": {},
     "output_type": "execute_result"
    }
   ],
   "source": [
    "import torch                                            # Framework\n",
    "import torch.nn as nn                                   # Layer architecture\n",
    "import torch.optim as optim                             # Optimizers\n",
    "from torch.optim import lr_scheduler                    # Learning rate adjuster\n",
    "import torch.backends.cudnn as cudnn                    # CUDA interface\n",
    "import numpy as np                                      # yep\n",
    "import torchvision                                      # CV torch\n",
    "from torchvision import datasets, models, transforms    # yep\n",
    "import matplotlib.pyplot as plt                         # yep\n",
    "import time                                             # yep\n",
    "import os                                               # yep\n",
    "from PIL import Image                                   # yep\n",
    "from tempfile import TemporaryDirectory                 # Automatic temporary folders\n",
    "\n",
    "cudnn.benchmark = True          # Auto setup\n",
    "plt.ion()                       # interactive mode"
   ]
  },
  {
   "cell_type": "markdown",
   "id": "7de114a8",
   "metadata": {},
   "source": [
    "```Load data```"
   ]
  },
  {
   "cell_type": "code",
   "execution_count": 4,
   "id": "4d123469",
   "metadata": {},
   "outputs": [
    {
     "name": "stdout",
     "output_type": "stream",
     "text": [
      "Using cpu device\n"
     ]
    }
   ],
   "source": [
    "# Data augmentation and normalization for training\n",
    "\n",
    "# Transform pipelines\n",
    "data_transforms = {\n",
    "    'train': transforms.Compose([                       # Pipeline of transforms for 'train'\n",
    "        transforms.RandomResizedCrop(224),              # Random crop every access to an image (e.g. epoch)\n",
    "        transforms.RandomHorizontalFlip(),              # Random flip every access to an image (e.g. epoch)\n",
    "        transforms.ToTensor(),                          # Image to pytorch tensor with range of [0-1]\n",
    "        transforms.Normalize([0.485, 0.456, 0.406],     # Mean color\n",
    "                             [0.229, 0.224, 0.225])     # std of colors\n",
    "    ]),\n",
    "    'val': transforms.Compose([                         # Pipeline of transforms for 'val'\n",
    "        transforms.Resize(256),                         # Resize smaller side of an image to 256\n",
    "        transforms.CenterCrop(224),                     # Crop center of a 224 side\n",
    "        transforms.ToTensor(),                          \n",
    "        transforms.Normalize([0.485, 0.456, 0.406],     \n",
    "                             [0.229, 0.224, 0.225])     \n",
    "    ]),\n",
    "}\n",
    "\n",
    "\n",
    "data_dir = 'data/hymenoptera_data'\n",
    "image_datasets = {x: datasets.ImageFolder(os.path.join(data_dir, x),\n",
    "                                          data_transforms[x])\n",
    "                  for x in ['train', 'val']}\n",
    "# Output:\n",
    "# { 'train': ImageFolder(dataset_path_train, transform=data_transforms['train']),\n",
    "#   'val':   ImageFolder(dataset_path_val,   transform=data_transforms['val'])    }\n",
    "# ImageFolder() returns an object of labeled images went through augmentation\n",
    "\n",
    "\n",
    "dataloaders = {x: torch.utils.data.DataLoader(image_datasets[x], batch_size=4,\n",
    "                                             shuffle=True, num_workers=4)\n",
    "              for x in ['train', 'val']}\n",
    "# Output:\n",
    "# { 'train': torch.utils.data.DataLoader(\n",
    "#               image_datasets['train'],\n",
    "#               batch_size=4,\n",
    "#               shuffle=True,\n",
    "#               num_workers=4,\n",
    "#   'val':   torch.utils.data.DataLoader(\n",
    "#               image_datasets['val'],\n",
    "#               batch_size=4,\n",
    "#               shuffle=True,\n",
    "#               num_workers=4 }\n",
    "# DataLoader() returns an object with mini batches of images with labels\n",
    "\n",
    "\n",
    "dataset_sizes = {x: len(image_datasets[x]) for x in ['train', 'val']}\n",
    "class_names = image_datasets['train'].classes\n",
    "\n",
    "# For this instance CUDA wasn't installed so CPU will be used\n",
    "device = torch.accelerator.current_accelerator().type if torch.accelerator.is_available() else \"cpu\"\n",
    "print(f\"Using {device} device\")"
   ]
  },
  {
   "cell_type": "markdown",
   "id": "c55d0d98",
   "metadata": {},
   "source": [
    "```Visualize some images```"
   ]
  },
  {
   "cell_type": "code",
   "execution_count": null,
   "id": "9c2adee8",
   "metadata": {},
   "outputs": [],
   "source": [
    "def imshow(inp, title=None):\n",
    "    inp = inp.numpy().transpose((1, 2, 0))      # Convert image shape from [C,H,W] to plt's [H,W,C]\n",
    "\n",
    "    mean = np.array([0.485, 0.456, 0.406])      # }\n",
    "    std = np.array([0.229, 0.224, 0.225])       # } \n",
    "    inp = std * inp + mean                      # } Revert normalization done by transforms.Normalize()\n",
    "\n",
    "    inp = np.clip(inp, 0, 1)                    # Limit values to the range of [0-1]\n",
    "    plt.imshow(inp)  \n",
    "\n",
    "\n",
    "    if title is not None:\n",
    "        plt.title(title)\n",
    "    plt.pause(0.001)                            # Pause so that plots are updated\n",
    "\n",
    "\n",
    "# Get a batch of training data\n",
    "inputs, classes = next(iter(dataloaders['train']))\n",
    "\n",
    "# Make a grid from batch\n",
    "out = torchvision.utils.make_grid(inputs)\n",
    "\n",
    "imshow(out, title=[class_names[x] for x in classes])"
   ]
  }
 ],
 "metadata": {
  "kernelspec": {
   "display_name": "venv",
   "language": "python",
   "name": "python3"
  },
  "language_info": {
   "codemirror_mode": {
    "name": "ipython",
    "version": 3
   },
   "file_extension": ".py",
   "mimetype": "text/x-python",
   "name": "python",
   "nbconvert_exporter": "python",
   "pygments_lexer": "ipython3",
   "version": "3.13.5"
  }
 },
 "nbformat": 4,
 "nbformat_minor": 5
}
