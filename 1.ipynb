{
 "cells": [
  {
   "cell_type": "code",
   "execution_count": null,
   "id": "6ea36b5f",
   "metadata": {},
   "outputs": [],
   "source": [
    "import torch                                            # Framework\n",
    "import torch.nn as nn                                   # Layer architecture\n",
    "import torch.optim as optim                             # Optimizers\n",
    "from torch.optim import lr_scheduler                    # Learning rate adjuster\n",
    "import torch.backends.cudnn as cudnn                    # CUDA interface\n",
    "import numpy as np                                      # yep\n",
    "import torchvision                                      # CV torch\n",
    "from torchvision import datasets, models, transforms    # yep\n",
    "import matplotlib.pyplot as plt                         # yep\n",
    "import time                                             # yep\n",
    "import os                                               # yep\n",
    "from PIL import Image                                   # yep\n",
    "from tempfile import TemporaryDirectory                 # Automatic temporary folders\n",
    "\n",
    "cudnn.benchmark = True          # Auto setup\n",
    "plt.ion()                       # interactive mode"
   ]
  }
 ],
 "metadata": {
  "kernelspec": {
   "display_name": "venv",
   "language": "python",
   "name": "python3"
  },
  "language_info": {
   "codemirror_mode": {
    "name": "ipython",
    "version": 3
   },
   "file_extension": ".py",
   "mimetype": "text/x-python",
   "name": "python",
   "nbconvert_exporter": "python",
   "pygments_lexer": "ipython3",
   "version": "3.13.5"
  }
 },
 "nbformat": 4,
 "nbformat_minor": 5
}
